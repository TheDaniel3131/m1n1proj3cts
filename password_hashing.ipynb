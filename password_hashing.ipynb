{
  "nbformat": 4,
  "nbformat_minor": 0,
  "metadata": {
    "colab": {
      "provenance": [],
      "authorship_tag": "ABX9TyMjxZHbmMjQrdcsl4XsZKeP",
      "include_colab_link": true
    },
    "kernelspec": {
      "name": "python3",
      "display_name": "Python 3"
    },
    "language_info": {
      "name": "python"
    }
  },
  "cells": [
    {
      "cell_type": "markdown",
      "metadata": {
        "id": "view-in-github",
        "colab_type": "text"
      },
      "source": [
        "<a href=\"https://colab.research.google.com/github/TheDaniel3131/m1n1proj3cts/blob/main/password_hashing.ipynb\" target=\"_parent\"><img src=\"https://colab.research.google.com/assets/colab-badge.svg\" alt=\"Open In Colab\"/></a>"
      ]
    },
    {
      "cell_type": "code",
      "execution_count": 7,
      "metadata": {
        "colab": {
          "base_uri": "https://localhost:8080/"
        },
        "id": "K8-UnyrdSG2f",
        "outputId": "1b5c52db-91d0-4f70-b815-44995b83599a"
      },
      "outputs": [
        {
          "output_type": "stream",
          "name": "stdout",
          "text": [
            "After Password Hashing: 36ebdb8080abee90a11741fbff9992e3f93c4ae7b0d0cdc85dc35675df1cd160\n"
          ]
        }
      ],
      "source": [
        "from hashlib import sha256\n",
        "\n",
        "def hashing_password(p):\n",
        "  return sha256(p.encode()).hexdigest()\n",
        "\n",
        "## Example Test Case:\n",
        "p = \"z3phr0u$_15_th3_b3$t_g@m3r\"\n",
        "\n",
        "print(\"After Password Hashing:\", hashing_password(p))\n",
        "# return  36ebdb8080abee90a11741fbff9992e3f93c4ae7b0d0cdc85dc35675df1cd160"
      ]
    }
  ]
}